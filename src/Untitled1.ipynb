{
 "cells": [
  {
   "cell_type": "code",
   "execution_count": 1,
   "metadata": {},
   "outputs": [],
   "source": [
    "from Bio import SeqIO\n",
    "import re\n",
    "from collections import Counter"
   ]
  },
  {
   "cell_type": "code",
   "execution_count": 5,
   "metadata": {},
   "outputs": [
    {
     "name": "stdout",
     "output_type": "stream",
     "text": [
      "Кол-во котингов: 624\n",
      "Максимальня длинна котингов: 179307\n",
      "Общая длинна: 3926130\n",
      "Кол-во скафолдов: 68\n",
      "Максимальня длинна скафолдов: 3831483\n",
      "Общая длинна: 3873190\n",
      "Кол-во гэпов 0\n"
     ]
    }
   ],
   "source": [
    "all_ids_cot = []\n",
    "with open('Poil_contig.fa') as file:\n",
    "    for record in SeqIO.parse(file, \"fasta\"):\n",
    "        all_ids_cot.append(record.id)\n",
    "pattern = 'len[0-9]+'\n",
    "pattern2 = 'seq[0-9]+'\n",
    "all_num_cot = []\n",
    "all_len_cot = []\n",
    "for i in all_ids_cot:\n",
    "    all_num_cot.append(int(re.findall(pattern2, i)[0][3:]))\n",
    "    all_len_cot.append(int(re.findall(pattern, i)[0][3:]))\n",
    "\n",
    "print('Кол-во котингов:',all_num_cot[-1])\n",
    "print('Максимальня длинна котингов:',max(all_len_cot))\n",
    "print('Общая длинна:',sum(all_len_cot))\n",
    "\n",
    "all_ids_scaf = []\n",
    "with open('Poil_scaffold.fa') as file:\n",
    "    for record in SeqIO.parse(file, \"fasta\"):\n",
    "        all_ids_scaf.append(record.id)\n",
    "pattern = 'len[0-9]+'\n",
    "pattern2 = 'scaffold[0-9]+'\n",
    "all_num_scaf = []\n",
    "all_len_scaf = []\n",
    "for i in all_ids_scaf:\n",
    "    all_num_scaf.append(int(re.findall(pattern2, i)[0][8:]))\n",
    "    all_len_scaf.append(int(re.findall(pattern, i)[0][3:]))\n",
    "\n",
    "print('Кол-во скафолдов:',all_num_scaf[-1])\n",
    "print('Максимальня длинна скафолдов:',max(all_len_scaf))\n",
    "print('Общая длинна:',sum(all_len_scaf))\n",
    "\n",
    "a = []\n",
    "parse = list(SeqIO.parse('Poil_scaffold.fa', \"fasta\"))\n",
    "with open('Poil_scaffold.fa') as file:\n",
    "    for record in SeqIO.parse(file, \"fasta\"):    \n",
    "        if record.id[record.id.find('_')+4:record.id.find('cov')-1] == '3831483':\n",
    "            a.append(int(re.findall(pattern2, record.id)[0][8:]))\n",
    "\n",
    "pattern3 = 'NNNN'\n",
    "str_test = \"\".join(list(parse[a[0]].seq))\n",
    "print('Кол-во гэпов',len(re.findall(pattern3,str_test)))"
   ]
  },
  {
   "cell_type": "code",
   "execution_count": null,
   "metadata": {},
   "outputs": [],
   "source": []
  }
 ],
 "metadata": {
  "kernelspec": {
   "display_name": "Python 3",
   "language": "python",
   "name": "python3"
  },
  "language_info": {
   "codemirror_mode": {
    "name": "ipython",
    "version": 3
   },
   "file_extension": ".py",
   "mimetype": "text/x-python",
   "name": "python",
   "nbconvert_exporter": "python",
   "pygments_lexer": "ipython3",
   "version": "3.8.3"
  },
  "toc": {
   "base_numbering": 1,
   "nav_menu": {},
   "number_sections": true,
   "sideBar": true,
   "skip_h1_title": false,
   "title_cell": "Содержание",
   "title_sidebar": "Contents",
   "toc_cell": true,
   "toc_position": {},
   "toc_section_display": true,
   "toc_window_display": true
  }
 },
 "nbformat": 4,
 "nbformat_minor": 4
}
